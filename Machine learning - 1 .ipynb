{
 "cells": [
  {
   "cell_type": "markdown",
   "metadata": {},
   "source": [
    "# Introduction to Machine Learning Project "
   ]
  },
  {
   "cell_type": "markdown",
   "metadata": {},
   "source": [
    "In this project, My goal is to develop a model that would analyze Mobile carrier Megaline subscriber's behavior and recommend one of Megaline's newer plans: Smart or Ultra. I want to develop a model with the highest possible accuracy. In this project, my threshold for accuracy will be 0.75. \n",
    "\n",
    "In order to do that, i will perform the following stages:\n",
    "\n",
    "1. Open and look through the data file\n",
    "\n",
    "2. Split the source data into a training set, a validation set, and a test set.\n",
    "\n",
    "3. Investigate the quality of different models by changing hyperparameters. \n",
    "\n",
    "4. Sanity check the model\n",
    "\n",
    "5. Check the accuracy using the test dataset.\n",
    "\n"
   ]
  },
  {
   "cell_type": "code",
   "execution_count": 16,
   "metadata": {},
   "outputs": [],
   "source": [
    "# Loading all the libraries i will use:\n",
    "import pandas as pd\n",
    "import math \n",
    "from scipy import stats as st\n",
    "import warnings\n",
    "warnings.filterwarnings(\"ignore\")\n",
    "import requests \n",
    "import io\n",
    "\n",
    "from sklearn.ensemble import RandomForestClassifier\n",
    "from sklearn.model_selection import train_test_split\n",
    "from sklearn.linear_model import LogisticRegression\n",
    "import numpy as np\n",
    "from sklearn import linear_model, decomposition, datasets\n",
    "from sklearn.pipeline import Pipeline\n",
    "from sklearn.model_selection import GridSearchCV\n",
    "from sklearn.preprocessing import StandardScaler\n",
    "from sklearn.tree import DecisionTreeClassifier\n",
    "from sklearn.metrics import accuracy_score\n"
   ]
  },
  {
   "cell_type": "markdown",
   "metadata": {},
   "source": [
    "## Open and look through the data file\n"
   ]
  },
  {
   "cell_type": "code",
   "execution_count": 17,
   "metadata": {},
   "outputs": [
    {
     "data": {
      "text/html": [
       "<div>\n",
       "<style scoped>\n",
       "    .dataframe tbody tr th:only-of-type {\n",
       "        vertical-align: middle;\n",
       "    }\n",
       "\n",
       "    .dataframe tbody tr th {\n",
       "        vertical-align: top;\n",
       "    }\n",
       "\n",
       "    .dataframe thead th {\n",
       "        text-align: right;\n",
       "    }\n",
       "</style>\n",
       "<table border=\"1\" class=\"dataframe\">\n",
       "  <thead>\n",
       "    <tr style=\"text-align: right;\">\n",
       "      <th></th>\n",
       "      <th>calls</th>\n",
       "      <th>minutes</th>\n",
       "      <th>messages</th>\n",
       "      <th>mb_used</th>\n",
       "      <th>is_ultra</th>\n",
       "    </tr>\n",
       "  </thead>\n",
       "  <tbody>\n",
       "    <tr>\n",
       "      <th>0</th>\n",
       "      <td>40.0</td>\n",
       "      <td>311.90</td>\n",
       "      <td>83.0</td>\n",
       "      <td>19915.42</td>\n",
       "      <td>0</td>\n",
       "    </tr>\n",
       "    <tr>\n",
       "      <th>1</th>\n",
       "      <td>85.0</td>\n",
       "      <td>516.75</td>\n",
       "      <td>56.0</td>\n",
       "      <td>22696.96</td>\n",
       "      <td>0</td>\n",
       "    </tr>\n",
       "    <tr>\n",
       "      <th>2</th>\n",
       "      <td>77.0</td>\n",
       "      <td>467.66</td>\n",
       "      <td>86.0</td>\n",
       "      <td>21060.45</td>\n",
       "      <td>0</td>\n",
       "    </tr>\n",
       "    <tr>\n",
       "      <th>3</th>\n",
       "      <td>106.0</td>\n",
       "      <td>745.53</td>\n",
       "      <td>81.0</td>\n",
       "      <td>8437.39</td>\n",
       "      <td>1</td>\n",
       "    </tr>\n",
       "    <tr>\n",
       "      <th>4</th>\n",
       "      <td>66.0</td>\n",
       "      <td>418.74</td>\n",
       "      <td>1.0</td>\n",
       "      <td>14502.75</td>\n",
       "      <td>0</td>\n",
       "    </tr>\n",
       "  </tbody>\n",
       "</table>\n",
       "</div>"
      ],
      "text/plain": [
       "   calls  minutes  messages   mb_used  is_ultra\n",
       "0   40.0   311.90      83.0  19915.42         0\n",
       "1   85.0   516.75      56.0  22696.96         0\n",
       "2   77.0   467.66      86.0  21060.45         0\n",
       "3  106.0   745.53      81.0   8437.39         1\n",
       "4   66.0   418.74       1.0  14502.75         0"
      ]
     },
     "execution_count": 17,
     "metadata": {},
     "output_type": "execute_result"
    }
   ],
   "source": [
    "url = \"https://raw.githubusercontent.com/yoav-karsenty/Machine-learning--accuracy-score/main/users_behavior%20(1).csv\" \n",
    "download = requests.get(url).content\n",
    "\n",
    "# Reading the downloaded content and turning it into a pandas dataframe\n",
    "\n",
    "plan = pd.read_csv(io.StringIO(download.decode('utf-8')))\n",
    "\n",
    "# Printing out the first 5 rows of the dataframe\n",
    "plan.head()"
   ]
  },
  {
   "cell_type": "code",
   "execution_count": 8,
   "metadata": {},
   "outputs": [
    {
     "name": "stdout",
     "output_type": "stream",
     "text": [
      "<class 'pandas.core.frame.DataFrame'>\n",
      "RangeIndex: 3214 entries, 0 to 3213\n",
      "Data columns (total 5 columns):\n",
      " #   Column    Non-Null Count  Dtype  \n",
      "---  ------    --------------  -----  \n",
      " 0   calls     3214 non-null   float64\n",
      " 1   minutes   3214 non-null   float64\n",
      " 2   messages  3214 non-null   float64\n",
      " 3   mb_used   3214 non-null   float64\n",
      " 4   is_ultra  3214 non-null   int64  \n",
      "dtypes: float64(4), int64(1)\n",
      "memory usage: 125.7 KB\n"
     ]
    }
   ],
   "source": [
    "plan.info()"
   ]
  },
  {
   "cell_type": "markdown",
   "metadata": {},
   "source": [
    "No missing values and no columns types to change, we are good to go"
   ]
  },
  {
   "cell_type": "markdown",
   "metadata": {},
   "source": [
    "## Splitting the source data into a training set, a validation set, and a test set.\n"
   ]
  },
  {
   "cell_type": "markdown",
   "metadata": {},
   "source": [
    "Next, i will split the dataset into a training set, a validation set, and a test set. \n",
    "The sizes of validation set and test set are usually equal, so i will use  split the data in a 3:1:1 ratio: 20% for the test, 20% for validation and 60% for training\n"
   ]
  },
  {
   "cell_type": "code",
   "execution_count": 9,
   "metadata": {},
   "outputs": [],
   "source": [
    "#splitting the data \n",
    "train_set, plan_test = train_test_split(plan, test_size=0.2,train_size=0.8, random_state=54321)\n",
    "plan_train, plan_valid = train_test_split(train_set, random_state=54321,test_size = 0.25,train_size =0.75) \n",
    "\n",
    "#Declaring features and target variables \n",
    "features_train = plan_train.drop(['is_ultra'], axis=1)\n",
    "target_train = plan_train['is_ultra']\n",
    "features_valid = plan_valid.drop(['is_ultra'], axis=1)\n",
    "target_valid = plan_valid['is_ultra']\n",
    "features_test = plan_test.drop(['is_ultra'], axis=1)\n",
    "target_test = plan_test['is_ultra']"
   ]
  },
  {
   "cell_type": "markdown",
   "metadata": {},
   "source": [
    "## Investigating the quality of different models by changing hyperparameters. \n"
   ]
  },
  {
   "cell_type": "markdown",
   "metadata": {},
   "source": [
    "Next, I want to Investigate the quality of different models by changing hyperparameters. This nees to use the classification models for this project, becasue we are dealing with two potential outcomes :1 = is ultra, 0 = is not ultra. Also, because I want to develop a model with the highest possible accuracy, the models i am going to examine are RandomForestClassifier and LogisticRegression."
   ]
  },
  {
   "cell_type": "code",
   "execution_count": 10,
   "metadata": {},
   "outputs": [
    {
     "name": "stdout",
     "output_type": "stream",
     "text": [
      "The best score: 0.8460342146189735 Best est :  5 best_depth :  9\n"
     ]
    }
   ],
   "source": [
    "#creating a loop that checks the best number for the n_estimators Hyperparameter and max_depth Hyperparameter\n",
    "best_model = None\n",
    "best_result = 0.70\n",
    "best_est = 0\n",
    "best_depth = 0\n",
    "for est in range(1, 100):\n",
    "    for depth in range (1, 30):\n",
    "        model = RandomForestClassifier(random_state=54321, n_estimators=est,max_depth = depth ) \n",
    "        model.fit(features_train,target_train) # train model on training set\n",
    "        score = model.score(features_valid,target_valid) # calculating accuracy score on validation set\n",
    "        if score > best_result: \n",
    "            \n",
    "            best_result = score\n",
    "          \n",
    "            best_model = model\n",
    "            best_result = score\n",
    "            best_est = est\n",
    "            best_depth = depth\n",
    "print(\"The best score:\",best_result,\"Best est : \",best_est,\"best_depth : \",best_depth)\n"
   ]
  },
  {
   "cell_type": "markdown",
   "metadata": {},
   "source": [
    "\n",
    "\n",
    "We got an 0.84 score using the RandomForestClassifier with max_depth = 5 and n_estimators = 9. This score is better than the threshold that was set, 0.75, but i still want to check if the model can't improve.  "
   ]
  },
  {
   "cell_type": "code",
   "execution_count": 11,
   "metadata": {},
   "outputs": [
    {
     "name": "stdout",
     "output_type": "stream",
     "text": [
      "The best score: 0.7791601866251944 Best solver :  newton-cg  best itter :  31\n"
     ]
    }
   ],
   "source": [
    "#creating a loop that checks the best number for the max_iter Hyperparameter and the best solver Hyperparameter\n",
    "\n",
    "best_model = None\n",
    "l_best_result = 0.70\n",
    "best_solver = 'lbfgs'\n",
    "best_iter = 0\n",
    "for iter_it in range (1, 1000,10):\n",
    "    for s in ['newton-cg', 'lbfgs', 'liblinear', 'sag', 'saga']:\n",
    "        \n",
    "\n",
    "        lr_model = LogisticRegression(random_state=12345, solver=s,max_iter = iter_it) \n",
    "        lr_model.fit(features_train, target_train) \n",
    "        lr_score = lr_model.score(features_valid, target_valid) \n",
    "        if lr_score > l_best_result:\n",
    "            l_best_result = lr_score\n",
    "            best_model = lr_model\n",
    "            l_best_result = lr_score\n",
    "            best_solver = s\n",
    "            best_iter = iter_it\n",
    "\n",
    "print(\"The best score:\",l_best_result,\"Best solver : \",best_solver,\" best itter : \",best_iter)\n"
   ]
  },
  {
   "cell_type": "markdown",
   "metadata": {},
   "source": [
    "As we can see, using LogisticRegression didnt improve the model's accuracy (now its 0.77), so i will use the previews model. "
   ]
  },
  {
   "cell_type": "markdown",
   "metadata": {},
   "source": [
    "## Sanity checking the model\n"
   ]
  },
  {
   "cell_type": "markdown",
   "metadata": {},
   "source": [
    "Next, i want to Sanity check the model. In order to do that i will create a dummy model that always predicts the same value. In this case i will take the most common value in the target column, and will create a 1D pandas series where for each row in the dataset the value matches the value i refered to. I want to check that the model i trained is more accurate than the dummy model."
   ]
  },
  {
   "cell_type": "code",
   "execution_count": 12,
   "metadata": {},
   "outputs": [
    {
     "data": {
      "text/plain": [
       "0    427\n",
       "1    216\n",
       "Name: is_ultra, dtype: int64"
      ]
     },
     "execution_count": 12,
     "metadata": {},
     "output_type": "execute_result"
    }
   ],
   "source": [
    "#getting the most commpn value in  test_target \n",
    "plan_test.is_ultra.value_counts()"
   ]
  },
  {
   "cell_type": "code",
   "execution_count": 13,
   "metadata": {},
   "outputs": [],
   "source": [
    "#creating a series with that value.\n",
    "cooked_pred = pd.Series(0, index=plan_test.index)"
   ]
  },
  {
   "cell_type": "code",
   "execution_count": 14,
   "metadata": {},
   "outputs": [
    {
     "data": {
      "text/plain": [
       "0.6640746500777605"
      ]
     },
     "execution_count": 14,
     "metadata": {},
     "output_type": "execute_result"
    }
   ],
   "source": [
    "#performing an accuracy test to the dummy model \n",
    "accuracy_sanity = accuracy_score(target_test, cooked_pred)\n",
    "accuracy_sanity"
   ]
  },
  {
   "cell_type": "markdown",
   "metadata": {},
   "source": [
    "As we can see, the Sanity check went well. The model i trained performs better than the dummy model.\n",
    "Now, i can test the final model."
   ]
  },
  {
   "cell_type": "markdown",
   "metadata": {},
   "source": [
    "## Check the accuracy using the test dataset.\n"
   ]
  },
  {
   "cell_type": "markdown",
   "metadata": {},
   "source": [
    "Next, I will test the final model on the test dataset and see if the training was successful."
   ]
  },
  {
   "cell_type": "code",
   "execution_count": 15,
   "metadata": {},
   "outputs": [
    {
     "data": {
      "text/plain": [
       "0.7791601866251944"
      ]
     },
     "execution_count": 15,
     "metadata": {},
     "output_type": "execute_result"
    }
   ],
   "source": [
    "#Testing the final model with the test dataset\n",
    "final_model = RandomForestClassifier(random_state=54321, n_estimators=best_est,max_depth = best_depth) \n",
    "final_model.fit(features_train,target_train) # train model on training set\n",
    "final_score = final_model.score(features_test,target_test) # calculate accuracy score on validation set\n",
    "final_score"
   ]
  },
  {
   "cell_type": "markdown",
   "metadata": {},
   "source": [
    "We got a 0.77 score, wich makes our model a successful model based on the 0.75 threshold."
   ]
  }
 ],
 "metadata": {
  "ExecuteTimeLog": [
   {
    "duration": 1498,
    "start_time": "2022-05-18T10:37:23.184Z"
   },
   {
    "duration": 266,
    "start_time": "2022-05-18T10:38:18.941Z"
   },
   {
    "duration": 78,
    "start_time": "2022-05-18T10:38:39.706Z"
   },
   {
    "duration": 120,
    "start_time": "2022-05-18T10:39:37.705Z"
   },
   {
    "duration": 14,
    "start_time": "2022-05-18T10:46:58.231Z"
   },
   {
    "duration": 7,
    "start_time": "2022-05-18T10:47:09.305Z"
   },
   {
    "duration": 5,
    "start_time": "2022-05-18T11:12:47.546Z"
   },
   {
    "duration": 584,
    "start_time": "2022-05-18T11:13:38.511Z"
   },
   {
    "duration": 41,
    "start_time": "2022-05-18T11:17:04.249Z"
   },
   {
    "duration": 457,
    "start_time": "2022-05-18T11:17:17.585Z"
   },
   {
    "duration": 2,
    "start_time": "2022-05-18T11:17:53.660Z"
   },
   {
    "duration": 3,
    "start_time": "2022-05-18T11:18:02.673Z"
   },
   {
    "duration": 9,
    "start_time": "2022-05-18T11:25:39.710Z"
   },
   {
    "duration": 5,
    "start_time": "2022-05-18T11:25:41.348Z"
   },
   {
    "duration": 34,
    "start_time": "2022-05-18T11:25:41.837Z"
   },
   {
    "duration": 9,
    "start_time": "2022-05-18T11:25:42.448Z"
   },
   {
    "duration": 113,
    "start_time": "2022-05-18T11:25:45.100Z"
   },
   {
    "duration": 20,
    "start_time": "2022-05-18T11:25:47.619Z"
   },
   {
    "duration": 9,
    "start_time": "2022-05-18T11:28:20.744Z"
   },
   {
    "duration": 17,
    "start_time": "2022-05-18T11:28:45.165Z"
   },
   {
    "duration": 6,
    "start_time": "2022-05-18T11:34:37.566Z"
   },
   {
    "duration": 16,
    "start_time": "2022-05-18T11:35:37.852Z"
   },
   {
    "duration": 121,
    "start_time": "2022-05-18T11:35:47.682Z"
   },
   {
    "duration": 18,
    "start_time": "2022-05-18T11:46:38.355Z"
   },
   {
    "duration": 92965,
    "start_time": "2022-05-18T11:46:54.361Z"
   },
   {
    "duration": 92973,
    "start_time": "2022-05-18T11:49:57.584Z"
   },
   {
    "duration": 1256682,
    "start_time": "2022-05-18T11:55:04.869Z"
   },
   {
    "duration": 19,
    "start_time": "2022-05-18T12:16:01.553Z"
   },
   {
    "duration": 1894,
    "start_time": "2022-05-21T11:33:12.928Z"
   },
   {
    "duration": 151,
    "start_time": "2022-05-21T11:33:14.824Z"
   },
   {
    "duration": 12,
    "start_time": "2022-05-21T11:33:14.977Z"
   },
   {
    "duration": 178821,
    "start_time": "2022-05-21T11:33:14.992Z"
   },
   {
    "duration": 153,
    "start_time": "2022-05-21T11:37:52.814Z"
   },
   {
    "duration": 1464,
    "start_time": "2022-05-21T11:42:54.896Z"
   },
   {
    "duration": 39,
    "start_time": "2022-05-21T11:42:56.362Z"
   },
   {
    "duration": 5,
    "start_time": "2022-05-21T11:42:56.403Z"
   },
   {
    "duration": 0,
    "start_time": "2022-05-21T11:42:56.410Z"
   },
   {
    "duration": 0,
    "start_time": "2022-05-21T11:42:56.411Z"
   },
   {
    "duration": 0,
    "start_time": "2022-05-21T11:42:56.412Z"
   },
   {
    "duration": 0,
    "start_time": "2022-05-21T11:42:56.413Z"
   },
   {
    "duration": 0,
    "start_time": "2022-05-21T11:42:56.415Z"
   },
   {
    "duration": 0,
    "start_time": "2022-05-21T11:42:56.416Z"
   },
   {
    "duration": 8,
    "start_time": "2022-05-21T11:43:04.187Z"
   },
   {
    "duration": 331093,
    "start_time": "2022-05-21T11:43:05.260Z"
   },
   {
    "duration": 359953,
    "start_time": "2022-05-21T11:53:04.184Z"
   },
   {
    "duration": 1631,
    "start_time": "2022-05-21T12:01:37.238Z"
   },
   {
    "duration": 43,
    "start_time": "2022-05-21T12:01:38.871Z"
   },
   {
    "duration": 12,
    "start_time": "2022-05-21T12:01:38.916Z"
   },
   {
    "duration": 371337,
    "start_time": "2022-05-21T12:01:38.930Z"
   },
   {
    "duration": 18,
    "start_time": "2022-05-21T12:07:50.270Z"
   },
   {
    "duration": 156,
    "start_time": "2022-05-21T12:07:50.290Z"
   },
   {
    "duration": 0,
    "start_time": "2022-05-21T12:07:50.448Z"
   },
   {
    "duration": 0,
    "start_time": "2022-05-21T12:07:50.450Z"
   },
   {
    "duration": 0,
    "start_time": "2022-05-21T12:07:50.451Z"
   },
   {
    "duration": 0,
    "start_time": "2022-05-21T12:07:50.452Z"
   },
   {
    "duration": 0,
    "start_time": "2022-05-21T12:07:50.453Z"
   },
   {
    "duration": 40,
    "start_time": "2022-05-21T12:13:50.927Z"
   },
   {
    "duration": 55,
    "start_time": "2022-05-21T12:13:56.136Z"
   },
   {
    "duration": 837,
    "start_time": "2022-05-21T12:14:09.135Z"
   },
   {
    "duration": 2320,
    "start_time": "2022-05-21T12:14:41.677Z"
   },
   {
    "duration": 747,
    "start_time": "2022-05-21T12:15:21.832Z"
   },
   {
    "duration": 15,
    "start_time": "2022-05-21T12:15:50.515Z"
   },
   {
    "duration": 25,
    "start_time": "2022-05-21T12:16:27.237Z"
   },
   {
    "duration": 953,
    "start_time": "2022-05-21T12:16:48.310Z"
   },
   {
    "duration": 861,
    "start_time": "2022-05-21T12:16:53.721Z"
   },
   {
    "duration": 819,
    "start_time": "2022-05-21T12:17:22.192Z"
   },
   {
    "duration": 819,
    "start_time": "2022-05-21T12:17:25.830Z"
   },
   {
    "duration": 803,
    "start_time": "2022-05-21T12:17:52.224Z"
   },
   {
    "duration": 843,
    "start_time": "2022-05-21T12:20:03.423Z"
   },
   {
    "duration": 3462,
    "start_time": "2022-05-21T12:20:14.916Z"
   },
   {
    "duration": 6675,
    "start_time": "2022-05-21T12:20:29.083Z"
   },
   {
    "duration": 9227,
    "start_time": "2022-05-21T12:20:43.805Z"
   },
   {
    "duration": 9033,
    "start_time": "2022-05-21T12:21:10.378Z"
   },
   {
    "duration": 11839,
    "start_time": "2022-05-21T12:21:33.379Z"
   },
   {
    "duration": 9321,
    "start_time": "2022-05-21T12:22:28.635Z"
   },
   {
    "duration": 1898,
    "start_time": "2022-05-21T12:22:58.887Z"
   },
   {
    "duration": 6392,
    "start_time": "2022-05-21T12:24:14.101Z"
   },
   {
    "duration": 5930,
    "start_time": "2022-05-21T12:24:25.837Z"
   },
   {
    "duration": 5942,
    "start_time": "2022-05-21T12:24:43.641Z"
   },
   {
    "duration": 3338,
    "start_time": "2022-05-21T12:25:04.933Z"
   },
   {
    "duration": 1715,
    "start_time": "2022-05-21T12:25:24.974Z"
   },
   {
    "duration": 1882,
    "start_time": "2022-05-21T12:25:39.693Z"
   },
   {
    "duration": 3487,
    "start_time": "2022-05-21T12:25:59.693Z"
   },
   {
    "duration": 3470,
    "start_time": "2022-05-21T12:26:20.986Z"
   },
   {
    "duration": 5353,
    "start_time": "2022-05-21T12:26:35.925Z"
   },
   {
    "duration": 5307,
    "start_time": "2022-05-21T12:27:03.057Z"
   },
   {
    "duration": 5238,
    "start_time": "2022-05-21T12:27:17.933Z"
   },
   {
    "duration": 5002,
    "start_time": "2022-05-21T12:27:31.685Z"
   },
   {
    "duration": 5018,
    "start_time": "2022-05-21T12:27:51.124Z"
   },
   {
    "duration": 4984,
    "start_time": "2022-05-21T12:28:08.545Z"
   },
   {
    "duration": 10231,
    "start_time": "2022-05-21T12:28:23.813Z"
   },
   {
    "duration": 9704,
    "start_time": "2022-05-21T12:31:21.844Z"
   },
   {
    "duration": 10212,
    "start_time": "2022-05-21T12:36:00.391Z"
   },
   {
    "duration": 6253,
    "start_time": "2022-05-21T12:36:37.324Z"
   },
   {
    "duration": 5649,
    "start_time": "2022-05-21T12:37:17.932Z"
   },
   {
    "duration": 65582,
    "start_time": "2022-05-21T12:37:31.421Z"
   },
   {
    "duration": 59291,
    "start_time": "2022-05-21T12:39:19.397Z"
   },
   {
    "duration": 194416,
    "start_time": "2022-05-21T12:40:20.620Z"
   },
   {
    "duration": 25,
    "start_time": "2022-05-21T12:43:35.038Z"
   },
   {
    "duration": 3,
    "start_time": "2022-05-21T12:50:41.991Z"
   },
   {
    "duration": 3,
    "start_time": "2022-05-21T12:50:54.645Z"
   },
   {
    "duration": 79801,
    "start_time": "2022-05-21T12:51:22.379Z"
   },
   {
    "duration": 20,
    "start_time": "2022-05-21T12:52:47.132Z"
   },
   {
    "duration": 13,
    "start_time": "2022-05-21T12:59:01.582Z"
   },
   {
    "duration": 19149,
    "start_time": "2022-05-21T12:59:03.125Z"
   },
   {
    "duration": 0,
    "start_time": "2022-05-21T12:59:22.276Z"
   },
   {
    "duration": 0,
    "start_time": "2022-05-21T12:59:22.278Z"
   },
   {
    "duration": 0,
    "start_time": "2022-05-21T12:59:22.279Z"
   },
   {
    "duration": 0,
    "start_time": "2022-05-21T12:59:22.279Z"
   },
   {
    "duration": 0,
    "start_time": "2022-05-21T12:59:22.281Z"
   },
   {
    "duration": 412781,
    "start_time": "2022-05-21T12:59:26.432Z"
   },
   {
    "duration": 331673,
    "start_time": "2022-05-21T13:06:19.215Z"
   },
   {
    "duration": 0,
    "start_time": "2022-05-21T13:11:50.891Z"
   },
   {
    "duration": 0,
    "start_time": "2022-05-21T13:11:50.892Z"
   },
   {
    "duration": 0,
    "start_time": "2022-05-21T13:11:50.893Z"
   },
   {
    "duration": 17,
    "start_time": "2022-05-21T13:11:54.751Z"
   },
   {
    "duration": 569417,
    "start_time": "2022-05-21T13:12:02.839Z"
   },
   {
    "duration": 90823,
    "start_time": "2022-05-21T13:21:32.259Z"
   },
   {
    "duration": 4,
    "start_time": "2022-05-21T13:23:03.084Z"
   },
   {
    "duration": 6,
    "start_time": "2022-05-21T13:24:02.482Z"
   },
   {
    "duration": 5,
    "start_time": "2022-05-21T13:24:34.699Z"
   },
   {
    "duration": 6,
    "start_time": "2022-05-21T13:24:38.739Z"
   },
   {
    "duration": 5,
    "start_time": "2022-05-21T13:24:43.285Z"
   },
   {
    "duration": 6,
    "start_time": "2022-05-21T13:24:47.528Z"
   },
   {
    "duration": 15,
    "start_time": "2022-05-21T13:24:55.939Z"
   },
   {
    "duration": 5,
    "start_time": "2022-05-21T13:25:02.380Z"
   },
   {
    "duration": 4,
    "start_time": "2022-05-21T13:25:35.980Z"
   },
   {
    "duration": 22,
    "start_time": "2022-05-21T13:25:42.063Z"
   },
   {
    "duration": 22,
    "start_time": "2022-05-21T13:27:04.729Z"
   },
   {
    "duration": 19,
    "start_time": "2022-05-21T13:27:12.588Z"
   },
   {
    "duration": 15,
    "start_time": "2022-05-21T13:27:31.396Z"
   },
   {
    "duration": 5,
    "start_time": "2022-05-21T13:27:38.032Z"
   },
   {
    "duration": 4,
    "start_time": "2022-05-21T13:27:57.489Z"
   },
   {
    "duration": 12,
    "start_time": "2022-05-21T13:27:58.280Z"
   },
   {
    "duration": 8,
    "start_time": "2022-05-21T13:27:59.083Z"
   },
   {
    "duration": 578934,
    "start_time": "2022-05-21T13:29:29.842Z"
   },
   {
    "duration": 5,
    "start_time": "2022-05-21T13:39:08.777Z"
   },
   {
    "duration": 582721,
    "start_time": "2022-05-21T14:43:05.283Z"
   },
   {
    "duration": 4,
    "start_time": "2022-05-21T14:52:48.006Z"
   },
   {
    "duration": 11,
    "start_time": "2022-05-21T15:09:53.523Z"
   },
   {
    "duration": 26,
    "start_time": "2022-05-21T15:10:20.031Z"
   },
   {
    "duration": 11,
    "start_time": "2022-05-21T15:10:33.711Z"
   },
   {
    "duration": 37,
    "start_time": "2022-05-21T15:10:38.923Z"
   },
   {
    "duration": 37,
    "start_time": "2022-05-21T15:11:07.928Z"
   },
   {
    "duration": 19,
    "start_time": "2022-05-21T15:11:12.274Z"
   },
   {
    "duration": 27,
    "start_time": "2022-05-21T15:11:13.630Z"
   },
   {
    "duration": 21,
    "start_time": "2022-05-21T15:11:14.606Z"
   },
   {
    "duration": 20,
    "start_time": "2022-05-21T15:11:15.515Z"
   },
   {
    "duration": 24,
    "start_time": "2022-05-21T15:11:16.620Z"
   },
   {
    "duration": 6,
    "start_time": "2022-05-21T15:11:56.001Z"
   },
   {
    "duration": 6,
    "start_time": "2022-05-21T15:11:58.124Z"
   },
   {
    "duration": 5,
    "start_time": "2022-05-21T15:11:59.116Z"
   },
   {
    "duration": 3,
    "start_time": "2022-05-21T15:12:00.030Z"
   },
   {
    "duration": 5,
    "start_time": "2022-05-21T15:12:00.571Z"
   },
   {
    "duration": 7,
    "start_time": "2022-05-21T15:12:03.318Z"
   },
   {
    "duration": 6,
    "start_time": "2022-05-21T15:12:03.714Z"
   },
   {
    "duration": 1581,
    "start_time": "2022-05-21T15:12:23.526Z"
   },
   {
    "duration": 171,
    "start_time": "2022-05-21T15:12:25.109Z"
   },
   {
    "duration": 12,
    "start_time": "2022-05-21T15:12:25.282Z"
   },
   {
    "duration": 9,
    "start_time": "2022-05-21T15:12:25.296Z"
   },
   {
    "duration": 544755,
    "start_time": "2022-05-21T15:12:25.307Z"
   },
   {
    "duration": 5,
    "start_time": "2022-05-21T15:21:30.064Z"
   },
   {
    "duration": 78139,
    "start_time": "2022-05-21T15:21:30.071Z"
   },
   {
    "duration": 5,
    "start_time": "2022-05-21T15:22:48.212Z"
   },
   {
    "duration": 6,
    "start_time": "2022-05-21T15:22:48.218Z"
   },
   {
    "duration": 175,
    "start_time": "2022-05-21T15:22:48.226Z"
   },
   {
    "duration": 0,
    "start_time": "2022-05-21T15:22:48.402Z"
   },
   {
    "duration": 6,
    "start_time": "2022-05-21T15:24:25.325Z"
   },
   {
    "duration": 6,
    "start_time": "2022-05-21T15:24:43.816Z"
   },
   {
    "duration": 6,
    "start_time": "2022-05-21T15:25:01.402Z"
   },
   {
    "duration": 10,
    "start_time": "2022-05-21T15:25:54.619Z"
   },
   {
    "duration": 5,
    "start_time": "2022-05-21T15:26:05.688Z"
   },
   {
    "duration": 6,
    "start_time": "2022-05-21T15:26:21.598Z"
   },
   {
    "duration": 5,
    "start_time": "2022-05-21T15:26:29.786Z"
   },
   {
    "duration": 4,
    "start_time": "2022-05-21T15:26:32.932Z"
   },
   {
    "duration": 5,
    "start_time": "2022-05-21T15:26:33.409Z"
   },
   {
    "duration": 1148,
    "start_time": "2022-05-21T16:42:05.023Z"
   },
   {
    "duration": 44,
    "start_time": "2022-05-21T16:42:06.173Z"
   },
   {
    "duration": 14,
    "start_time": "2022-05-21T16:42:06.219Z"
   },
   {
    "duration": 19,
    "start_time": "2022-05-21T16:42:06.236Z"
   },
   {
    "duration": 502078,
    "start_time": "2022-05-21T16:42:06.258Z"
   },
   {
    "duration": 5,
    "start_time": "2022-05-21T16:50:28.338Z"
   },
   {
    "duration": 66354,
    "start_time": "2022-05-21T16:50:28.345Z"
   },
   {
    "duration": 5,
    "start_time": "2022-05-21T16:51:34.700Z"
   },
   {
    "duration": 7,
    "start_time": "2022-05-21T16:51:34.707Z"
   },
   {
    "duration": 5,
    "start_time": "2022-05-21T16:51:34.716Z"
   },
   {
    "duration": 20,
    "start_time": "2022-05-21T16:51:34.722Z"
   },
   {
    "duration": 24,
    "start_time": "2022-05-21T16:51:34.745Z"
   },
   {
    "duration": 64641,
    "start_time": "2022-05-21T16:53:08.365Z"
   },
   {
    "duration": 6,
    "start_time": "2022-05-21T16:58:15.708Z"
   },
   {
    "duration": 38,
    "start_time": "2022-05-21T16:58:16.280Z"
   },
   {
    "duration": 11,
    "start_time": "2022-05-21T16:58:16.371Z"
   },
   {
    "duration": 11,
    "start_time": "2022-05-21T16:58:16.693Z"
   },
   {
    "duration": 1094,
    "start_time": "2022-05-21T17:06:24.121Z"
   },
   {
    "duration": 43,
    "start_time": "2022-05-21T17:06:25.217Z"
   },
   {
    "duration": 12,
    "start_time": "2022-05-21T17:06:25.261Z"
   },
   {
    "duration": 11,
    "start_time": "2022-05-21T17:06:25.275Z"
   },
   {
    "duration": 489456,
    "start_time": "2022-05-21T17:06:25.288Z"
   },
   {
    "duration": 124,
    "start_time": "2022-05-21T17:14:34.746Z"
   },
   {
    "duration": 0,
    "start_time": "2022-05-21T17:14:34.872Z"
   },
   {
    "duration": 0,
    "start_time": "2022-05-21T17:14:34.873Z"
   },
   {
    "duration": 0,
    "start_time": "2022-05-21T17:14:34.874Z"
   },
   {
    "duration": 0,
    "start_time": "2022-05-21T17:14:34.875Z"
   },
   {
    "duration": 0,
    "start_time": "2022-05-21T17:14:34.876Z"
   },
   {
    "duration": 33763,
    "start_time": "2022-05-21T17:19:09.146Z"
   },
   {
    "duration": 6,
    "start_time": "2022-05-21T17:19:42.910Z"
   },
   {
    "duration": 6,
    "start_time": "2022-05-21T17:19:42.917Z"
   },
   {
    "duration": 21,
    "start_time": "2022-05-21T17:19:42.925Z"
   },
   {
    "duration": 37,
    "start_time": "2022-05-21T17:19:42.948Z"
   },
   {
    "duration": 0,
    "start_time": "2022-05-21T17:19:42.987Z"
   },
   {
    "duration": 23,
    "start_time": "2022-05-21T17:20:50.226Z"
   },
   {
    "duration": 1089,
    "start_time": "2022-05-22T07:59:10.393Z"
   },
   {
    "duration": 134,
    "start_time": "2022-05-22T07:59:13.057Z"
   },
   {
    "duration": 11,
    "start_time": "2022-05-22T07:59:14.618Z"
   },
   {
    "duration": 8,
    "start_time": "2022-05-22T07:59:16.358Z"
   },
   {
    "duration": 114,
    "start_time": "2022-05-22T07:59:21.197Z"
   },
   {
    "duration": 500628,
    "start_time": "2022-05-22T07:59:35.954Z"
   },
   {
    "duration": 30,
    "start_time": "2022-05-22T08:08:18.466Z"
   }
  ],
  "kernelspec": {
   "display_name": "Python 3",
   "language": "python",
   "name": "python3"
  },
  "language_info": {
   "codemirror_mode": {
    "name": "ipython",
    "version": 3
   },
   "file_extension": ".py",
   "mimetype": "text/x-python",
   "name": "python",
   "nbconvert_exporter": "python",
   "pygments_lexer": "ipython3",
   "version": "3.8.8"
  },
  "toc": {
   "base_numbering": 1,
   "nav_menu": {},
   "number_sections": true,
   "sideBar": true,
   "skip_h1_title": true,
   "title_cell": "Table of Contents",
   "title_sidebar": "Contents",
   "toc_cell": false,
   "toc_position": {
    "height": "calc(100% - 180px)",
    "left": "10px",
    "top": "150px",
    "width": "340.797px"
   },
   "toc_section_display": true,
   "toc_window_display": true
  }
 },
 "nbformat": 4,
 "nbformat_minor": 2
}
